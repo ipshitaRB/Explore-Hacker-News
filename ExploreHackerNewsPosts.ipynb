{
  "nbformat": 4,
  "nbformat_minor": 0,
  "metadata": {
    "colab": {
      "name": "ExploreHackerNewsPosts.ipynb",
      "version": "0.3.2",
      "provenance": [],
      "toc_visible": true,
      "include_colab_link": true
    },
    "kernelspec": {
      "name": "python3",
      "display_name": "Python 3"
    }
  },
  "cells": [
    {
      "cell_type": "markdown",
      "metadata": {
        "id": "view-in-github",
        "colab_type": "text"
      },
      "source": [
        "<a href=\"https://colab.research.google.com/github/ipshitaRB/Explore-Hacker-News/blob/master/ExploreHackerNewsPosts.ipynb\" target=\"_parent\"><img src=\"https://colab.research.google.com/assets/colab-badge.svg\" alt=\"Open In Colab\"/></a>"
      ]
    },
    {
      "cell_type": "markdown",
      "metadata": {
        "id": "9olUa9mJ8sgS",
        "colab_type": "text"
      },
      "source": [
        "# Explore Hacker News Posts\n",
        "\n",
        "\n",
        "The dataset only includes data about posts that have comments.Below are the description of the columns:\n",
        "\n",
        "*   id: The unique identifier from Hacker News for the post\n",
        "*   title: The title of the post\n",
        "*   url: The URL that the posts links to, if it the post has a URL\n",
        "*   num_points: The number of points the post acquired, calculated as the total number of upvotes minus the total number of downvotes\n",
        "*   num_comments: The number of comments that were made on the post\n",
        "*   author: The username of the person who submitted the post\n",
        "*   created_at: The date and time at which the post was submitted\n",
        "\n",
        "\n",
        "These are the questions to focus on \n",
        "\n",
        "*   Do Ask HN or Show HN recieve more comments on average?\n",
        "*   Do posts created at a certain time receive more posts on average?\n",
        "\n",
        "\n",
        "\n"
      ]
    },
    {
      "cell_type": "code",
      "metadata": {
        "id": "v7ubC5bqIt8q",
        "colab_type": "code",
        "colab": {
          "base_uri": "https://localhost:8080/",
          "height": 122
        },
        "outputId": "5f6501d9-a62a-40ba-c824-938892ab59c6"
      },
      "source": [
        "from google.colab import drive\n",
        "drive.mount('/content/drive')"
      ],
      "execution_count": 1,
      "outputs": [
        {
          "output_type": "stream",
          "text": [
            "Go to this URL in a browser: https://accounts.google.com/o/oauth2/auth?client_id=947318989803-6bn6qk8qdgf4n4g3pfee6491hc0brc4i.apps.googleusercontent.com&redirect_uri=urn%3Aietf%3Awg%3Aoauth%3A2.0%3Aoob&scope=email%20https%3A%2F%2Fwww.googleapis.com%2Fauth%2Fdocs.test%20https%3A%2F%2Fwww.googleapis.com%2Fauth%2Fdrive%20https%3A%2F%2Fwww.googleapis.com%2Fauth%2Fdrive.photos.readonly%20https%3A%2F%2Fwww.googleapis.com%2Fauth%2Fpeopleapi.readonly&response_type=code\n",
            "\n",
            "Enter your authorization code:\n",
            "··········\n",
            "Mounted at /content/drive\n"
          ],
          "name": "stdout"
        }
      ]
    },
    {
      "cell_type": "code",
      "metadata": {
        "id": "pntJH17qKNn6",
        "colab_type": "code",
        "outputId": "741e51fe-5fc5-4ec5-a60c-7672161a9df0",
        "colab": {
          "base_uri": "https://localhost:8080/",
          "height": 122
        }
      },
      "source": [
        "from csv import reader\n",
        "\n",
        "opened_file = open(\"/content/drive/My Drive/HN_posts_year_to_Sep_26_2016.csv\")\n",
        "content = reader(opened_file)\n",
        "posts = list(content)\n",
        "\n",
        "# Print the first 5 rows\n",
        "times = 0\n",
        "for post in posts:\n",
        "    if times < 5:\n",
        "        print(post)\n",
        "        times += 1"
      ],
      "execution_count": 2,
      "outputs": [
        {
          "output_type": "stream",
          "text": [
            "['id', 'title', 'url', 'num_points', 'num_comments', 'author', 'created_at']\n",
            "['12579008', 'You have two days to comment if you want stem cells to be classified as your own', 'http://www.regulations.gov/document?D=FDA-2015-D-3719-0018', '1', '0', 'altstar', '9/26/2016 3:26']\n",
            "['12579005', 'SQLAR  the SQLite Archiver', 'https://www.sqlite.org/sqlar/doc/trunk/README.md', '1', '0', 'blacksqr', '9/26/2016 3:24']\n",
            "['12578997', 'What if we just printed a flatscreen television on the side of our boxes?', 'https://medium.com/vanmoof/our-secrets-out-f21c1f03fdc8#.ietxmez43', '1', '0', 'pavel_lishin', '9/26/2016 3:19']\n",
            "['12578989', 'algorithmic music', 'http://cacm.acm.org/magazines/2011/7/109891-algorithmic-composition/fulltext', '1', '0', 'poindontcare', '9/26/2016 3:16']\n"
          ],
          "name": "stdout"
        }
      ]
    },
    {
      "cell_type": "markdown",
      "metadata": {
        "id": "do9JlbmCg_cK",
        "colab_type": "text"
      },
      "source": [
        "Seggregate posts into Ask HN, Show HN and others\n"
      ]
    },
    {
      "cell_type": "code",
      "metadata": {
        "id": "tqO3u_ILg9Gu",
        "colab_type": "code",
        "outputId": "de37aac8-fc8c-4a6c-a494-8aad8ca3b7a2",
        "colab": {
          "base_uri": "https://localhost:8080/",
          "height": 68
        }
      },
      "source": [
        "ask_posts, show_posts, other_posts = [],[],[]\n",
        "\n",
        "for post in posts[1:]:\n",
        "    title = post[1]\n",
        "    title = title.lower()\n",
        "    if title.startswith('ask hn'):\n",
        "        ask_posts.append(post)\n",
        "    elif title.startswith('show hn'):\n",
        "        show_posts.append(post)\n",
        "    else:\n",
        "        other_posts.append(post)\n",
        "        \n",
        "        \n",
        "print(len(ask_posts))\n",
        "print(len(show_posts))\n",
        "print(len(other_posts))\n",
        "        "
      ],
      "execution_count": 3,
      "outputs": [
        {
          "output_type": "stream",
          "text": [
            "9139\n",
            "10158\n",
            "273822\n"
          ],
          "name": "stdout"
        }
      ]
    },
    {
      "cell_type": "markdown",
      "metadata": {
        "id": "oDzgZHCDk9wa",
        "colab_type": "text"
      },
      "source": [
        "Compute average number of comments in Ask HN posts"
      ]
    },
    {
      "cell_type": "code",
      "metadata": {
        "id": "PR76_SDQk7bE",
        "colab_type": "code",
        "outputId": "1a4f98a1-dbb5-4891-d7a3-9f9aad729f9b",
        "colab": {
          "base_uri": "https://localhost:8080/",
          "height": 34
        }
      },
      "source": [
        "total_ask_comments = 0\n",
        "for post in ask_posts:\n",
        "    num_comments = post[4]\n",
        "    num_comments = int(num_comments)\n",
        "    total_ask_comments += num_comments\n",
        "\n",
        "avg_ask_comments = total_ask_comments / len(ask_posts)\n",
        "print(round(avg_ask_comments))"
      ],
      "execution_count": 0,
      "outputs": [
        {
          "output_type": "stream",
          "text": [
            "10\n"
          ],
          "name": "stdout"
        }
      ]
    },
    {
      "cell_type": "markdown",
      "metadata": {
        "id": "v2S5j-D9mjIv",
        "colab_type": "text"
      },
      "source": [
        "Compute avergage number of comments in Show HN posts"
      ]
    },
    {
      "cell_type": "code",
      "metadata": {
        "id": "ESQWj4uGmVKW",
        "colab_type": "code",
        "outputId": "e3db7d30-619e-4909-a96b-684a6b3c21ee",
        "colab": {
          "base_uri": "https://localhost:8080/",
          "height": 34
        }
      },
      "source": [
        "# Find total number comments in Show HN posts and compute their average\n",
        "\n",
        "total_show_comments = 0\n",
        "for post in show_posts:\n",
        "    num_comments = post[4]\n",
        "    num_comments = int(num_comments)\n",
        "    total_show_comments += num_comments\n",
        "    \n",
        "avg_show_comments = total_show_comments / len(show_posts)\n",
        "print(round(avg_show_comments))"
      ],
      "execution_count": 0,
      "outputs": [
        {
          "output_type": "stream",
          "text": [
            "5\n"
          ],
          "name": "stdout"
        }
      ]
    },
    {
      "cell_type": "markdown",
      "metadata": {
        "id": "DMTogSafn9FB",
        "colab_type": "text"
      },
      "source": [
        "**The average number of comments in Ask HN posts appear to be significantly higher than the average number of comments in Show HN posts.**"
      ]
    },
    {
      "cell_type": "markdown",
      "metadata": {
        "id": "5R3JIsfhP5lf",
        "colab_type": "text"
      },
      "source": [
        "Explore the number of posts and comments by the hour\n"
      ]
    },
    {
      "cell_type": "code",
      "metadata": {
        "id": "uXGtcpqiQBB6",
        "colab_type": "code",
        "colab": {
          "base_uri": "https://localhost:8080/",
          "height": 71
        },
        "outputId": "9b5c8d77-4f9d-40bb-87f3-6c4b5d9b48e9"
      },
      "source": [
        "import datetime as dt\n",
        "\n",
        "result_list = []\n",
        "for post in ask_posts:\n",
        "    created_at = post[6]\n",
        "    num_comments = post[4]\n",
        "    num_comments = int(num_comments)\n",
        "    result_list.append([created_at, num_comments])\n",
        "\n",
        "counts_by_hour = {}\n",
        "comments_by_hour = {}\n",
        "\n",
        "for row in result_list:\n",
        "    created_at_dt = dt.datetime.strptime(row[0], \"%m/%d/%Y %H:%M\")\n",
        "    hour_dt = dt.datetime.strftime(created_at_dt, \"%H\")\n",
        "    comment = row[1]\n",
        "    if hour_dt not in counts_by_hour:\n",
        "        counts_by_hour[hour_dt] = 1\n",
        "        comments_by_hour[hour_dt] = comment\n",
        "    else:\n",
        "        counts_by_hour[hour_dt] += 1\n",
        "        comments_by_hour[hour_dt] += comment\n",
        "\n",
        "print(counts_by_hour)\n",
        "print(comments_by_hour)\n"
      ],
      "execution_count": 4,
      "outputs": [
        {
          "output_type": "stream",
          "text": [
            "{'02': 269, '01': 282, '22': 383, '21': 518, '19': 552, '17': 587, '15': 646, '14': 513, '13': 444, '11': 312, '10': 282, '09': 222, '07': 226, '03': 271, '23': 343, '20': 510, '16': 579, '08': 257, '00': 301, '18': 614, '12': 342, '04': 243, '06': 234, '05': 209}\n",
            "{'02': 2996, '01': 2089, '22': 3372, '21': 4500, '19': 3954, '17': 5547, '15': 18525, '14': 4972, '13': 7245, '11': 2797, '10': 3013, '09': 1477, '07': 1585, '03': 2154, '23': 2297, '20': 4462, '16': 4466, '08': 2362, '00': 2277, '18': 4877, '12': 4234, '04': 2360, '06': 1587, '05': 1838}\n"
          ],
          "name": "stdout"
        }
      ]
    }
  ]
}