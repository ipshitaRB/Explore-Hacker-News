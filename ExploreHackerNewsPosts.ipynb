{
  "nbformat": 4,
  "nbformat_minor": 0,
  "metadata": {
    "colab": {
      "name": "ExploreHackerNewsPosts.ipynb",
      "version": "0.3.2",
      "provenance": [],
      "include_colab_link": true
    },
    "kernelspec": {
      "name": "python3",
      "display_name": "Python 3"
    }
  },
  "cells": [
    {
      "cell_type": "markdown",
      "metadata": {
        "id": "view-in-github",
        "colab_type": "text"
      },
      "source": [
        "<a href=\"https://colab.research.google.com/github/ipshitaRB/Explore-Hacker-News/blob/master/ExploreHackerNewsPosts.ipynb\" target=\"_parent\"><img src=\"https://colab.research.google.com/assets/colab-badge.svg\" alt=\"Open In Colab\"/></a>"
      ]
    },
    {
      "cell_type": "markdown",
      "metadata": {
        "id": "9olUa9mJ8sgS",
        "colab_type": "text"
      },
      "source": [
        "# Explore Hacker News Posts\n",
        "\n",
        "\n",
        "The dataset only includes data about posts that have comments.Below are the description of the columns:\n",
        "\n",
        "*   id: The unique identifier from Hacker News for the post\n",
        "*   title: The title of the post\n",
        "*   url: The URL that the posts links to, if it the post has a URL\n",
        "*   num_points: The number of points the post acquired, calculated as the total number of upvotes minus the total number of downvotes\n",
        "*   num_comments: The number of comments that were made on the post\n",
        "*   author: The username of the person who submitted the post\n",
        "*   created_at: The date and time at which the post was submitted\n",
        "\n",
        "\n",
        "These are the questions to focus on \n",
        "\n",
        "*   Do Ask HN or Show HN recieve more comments on average?\n",
        "*   Do posts created at a certain time receive more posts on average?\n",
        "\n",
        "\n",
        "\n"
      ]
    },
    {
      "cell_type": "code",
      "metadata": {
        "id": "38MoguBO8dJN",
        "colab_type": "code",
        "colab": {}
      },
      "source": [
        ""
      ],
      "execution_count": 0,
      "outputs": []
    }
  ]
}