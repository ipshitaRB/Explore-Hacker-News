{
  "nbformat": 4,
  "nbformat_minor": 0,
  "metadata": {
    "colab": {
      "name": "ExploreHackerNewsPosts.ipynb",
      "provenance": [],
      "toc_visible": true,
      "include_colab_link": true
    },
    "kernelspec": {
      "name": "python3",
      "display_name": "Python 3"
    }
  },
  "cells": [
    {
      "cell_type": "markdown",
      "metadata": {
        "id": "view-in-github",
        "colab_type": "text"
      },
      "source": [
        "<a href=\"https://colab.research.google.com/github/ipshitaRB/Explore-Hacker-News/blob/master/ExploreHackerNewsPosts.ipynb\" target=\"_parent\"><img src=\"https://colab.research.google.com/assets/colab-badge.svg\" alt=\"Open In Colab\"/></a>"
      ]
    },
    {
      "cell_type": "markdown",
      "metadata": {
        "id": "9olUa9mJ8sgS",
        "colab_type": "text"
      },
      "source": [
        "# How to gain more participation from readers on your Hacker News post?\n",
        "\n",
        "### Analysis of the popular posts on Hacker News\n",
        "\n",
        "The dataset only includes data about posts that have comments.Below are the description of the columns:\n",
        "\n",
        "*   id: The unique identifier from Hacker News for the post\n",
        "*   title: The title of the post\n",
        "*   url: The URL that the posts links to, if it the post has a URL\n",
        "*   num_points: The number of points the post acquired, calculated as the total number of upvotes minus the total number of downvotes\n",
        "*   num_comments: The number of comments that were made on the post\n",
        "*   author: The username of the person who submitted the post\n",
        "*   created_at: The date and time at which the post was submitted\n",
        "\n",
        "\n",
        "These are the questions to focus on \n",
        "\n",
        "*   Do Ask HN or Show HN recieve more comments on average?\n",
        "*   Do posts created at a certain time receive more posts on average?\n",
        "\n",
        "\n",
        "\n"
      ]
    },
    {
      "cell_type": "code",
      "metadata": {
        "id": "v7ubC5bqIt8q",
        "colab_type": "code",
        "colab": {}
      },
      "source": [
        "# Read in the data\n",
        "from google.colab import drive\n",
        "drive.mount('/content/drive')"
      ],
      "execution_count": 0,
      "outputs": []
    },
    {
      "cell_type": "code",
      "metadata": {
        "id": "pntJH17qKNn6",
        "colab_type": "code",
        "outputId": "2c5eef1b-eaaf-4434-cbd9-cf8aaebe0681",
        "colab": {
          "base_uri": "https://localhost:8080/",
          "height": 122
        }
      },
      "source": [
        "from csv import reader\n",
        "\n",
        "# Transform read content into list of lists\n",
        "opened_file = open(\"/content/drive/My Drive/HN_posts_year_to_Sep_26_2016.csv\")\n",
        "content = reader(opened_file)\n",
        "posts = list(content)\n",
        "\n",
        "# Quick exploration of data\n",
        "for post in posts[:5]:\n",
        "        print(post)"
      ],
      "execution_count": 0,
      "outputs": [
        {
          "output_type": "stream",
          "text": [
            "['id', 'title', 'url', 'num_points', 'num_comments', 'author', 'created_at']\n",
            "['12579008', 'You have two days to comment if you want stem cells to be classified as your own', 'http://www.regulations.gov/document?D=FDA-2015-D-3719-0018', '1', '0', 'altstar', '9/26/2016 3:26']\n",
            "['12579005', 'SQLAR  the SQLite Archiver', 'https://www.sqlite.org/sqlar/doc/trunk/README.md', '1', '0', 'blacksqr', '9/26/2016 3:24']\n",
            "['12578997', 'What if we just printed a flatscreen television on the side of our boxes?', 'https://medium.com/vanmoof/our-secrets-out-f21c1f03fdc8#.ietxmez43', '1', '0', 'pavel_lishin', '9/26/2016 3:19']\n",
            "['12578989', 'algorithmic music', 'http://cacm.acm.org/magazines/2011/7/109891-algorithmic-composition/fulltext', '1', '0', 'poindontcare', '9/26/2016 3:16']\n"
          ],
          "name": "stdout"
        }
      ]
    },
    {
      "cell_type": "markdown",
      "metadata": {
        "id": "do9JlbmCg_cK",
        "colab_type": "text"
      },
      "source": [
        "Seggregate posts into Ask HN, Show HN and others\n"
      ]
    },
    {
      "cell_type": "code",
      "metadata": {
        "id": "tqO3u_ILg9Gu",
        "colab_type": "code",
        "outputId": "557a0e80-1e76-4dfd-c52a-c4ee7668cb20",
        "colab": {
          "base_uri": "https://localhost:8080/",
          "height": 68
        }
      },
      "source": [
        "# Split the data set into ask HN, show HN and other categories of posts\n",
        "ask_posts, show_posts, other_posts = [],[],[]\n",
        "\n",
        "for post in posts[1:]:\n",
        "    title = post[1]\n",
        "    title = title.lower()\n",
        "    if title.startswith('ask hn'):\n",
        "        ask_posts.append(post)\n",
        "    elif title.startswith('show hn'):\n",
        "        show_posts.append(post)\n",
        "    else:\n",
        "        other_posts.append(post)\n",
        "        \n",
        "        \n",
        "print(len(ask_posts))\n",
        "print(len(show_posts))\n",
        "print(len(other_posts))\n",
        "        "
      ],
      "execution_count": 0,
      "outputs": [
        {
          "output_type": "stream",
          "text": [
            "9139\n",
            "10158\n",
            "273822\n"
          ],
          "name": "stdout"
        }
      ]
    },
    {
      "cell_type": "markdown",
      "metadata": {
        "id": "oDzgZHCDk9wa",
        "colab_type": "text"
      },
      "source": [
        "Compute average number of comments in Ask HN posts"
      ]
    },
    {
      "cell_type": "code",
      "metadata": {
        "id": "PR76_SDQk7bE",
        "colab_type": "code",
        "outputId": "7933f8a3-8084-460c-b050-32e085566678",
        "colab": {
          "base_uri": "https://localhost:8080/",
          "height": 34
        }
      },
      "source": [
        "# Find average number of comments for Ask HN posts\n",
        "total_ask_comments = 0\n",
        "for post in ask_posts:\n",
        "    num_comments = post[4]\n",
        "    num_comments = int(num_comments)\n",
        "    total_ask_comments += num_comments\n",
        "\n",
        "avg_ask_comments = total_ask_comments / len(ask_posts)\n",
        "print(round(avg_ask_comments))"
      ],
      "execution_count": 0,
      "outputs": [
        {
          "output_type": "stream",
          "text": [
            "10\n"
          ],
          "name": "stdout"
        }
      ]
    },
    {
      "cell_type": "markdown",
      "metadata": {
        "id": "v2S5j-D9mjIv",
        "colab_type": "text"
      },
      "source": [
        "Compute avergage number of comments in Show HN posts"
      ]
    },
    {
      "cell_type": "code",
      "metadata": {
        "id": "ESQWj4uGmVKW",
        "colab_type": "code",
        "outputId": "67f96586-1561-408e-9c59-0548ae03aca7",
        "colab": {
          "base_uri": "https://localhost:8080/",
          "height": 34
        }
      },
      "source": [
        "# Find total number comments in Show HN posts and compute their average\n",
        "\n",
        "total_show_comments = 0\n",
        "for post in show_posts:\n",
        "    num_comments = post[4]\n",
        "    num_comments = int(num_comments)\n",
        "    total_show_comments += num_comments\n",
        "    \n",
        "avg_show_comments = total_show_comments / len(show_posts)\n",
        "print(round(avg_show_comments))"
      ],
      "execution_count": 0,
      "outputs": [
        {
          "output_type": "stream",
          "text": [
            "5\n"
          ],
          "name": "stdout"
        }
      ]
    },
    {
      "cell_type": "markdown",
      "metadata": {
        "id": "DMTogSafn9FB",
        "colab_type": "text"
      },
      "source": [
        "**The average number of comments in Ask HN posts appear to be significantly higher than the average number of comments in Show HN posts.**"
      ]
    },
    {
      "cell_type": "markdown",
      "metadata": {
        "id": "5R3JIsfhP5lf",
        "colab_type": "text"
      },
      "source": [
        "\n",
        "\n",
        "---\n",
        "\n",
        "\n",
        "Explore the number of posts and comments by the hour\n",
        "\n"
      ]
    },
    {
      "cell_type": "code",
      "metadata": {
        "id": "uXGtcpqiQBB6",
        "colab_type": "code",
        "outputId": "4126058b-8768-4aa7-ab1a-0533c8a15d11",
        "colab": {
          "base_uri": "https://localhost:8080/",
          "height": 71
        }
      },
      "source": [
        "import datetime as dt\n",
        "\n",
        "# make a list of number of comments and time of creation for each post\n",
        "result_list = []\n",
        "for post in ask_posts:\n",
        "    created_at = post[6]\n",
        "    num_comments = post[4]\n",
        "    num_comments = int(num_comments)\n",
        "    result_list.append([created_at, num_comments])\n",
        "\n",
        "counts_by_hour = {}\n",
        "comments_by_hour = {}\n",
        "\n",
        "\n",
        "for row in result_list:\n",
        "    created_at_dt = dt.datetime.strptime(row[0], \"%m/%d/%Y %H:%M\")\n",
        "    hour_dt = dt.datetime.strftime(created_at_dt, \"%H\")\n",
        "    comment = row[1]\n",
        "    if hour_dt not in counts_by_hour:\n",
        "        counts_by_hour[hour_dt] = 1\n",
        "        comments_by_hour[hour_dt] = comment\n",
        "    else:\n",
        "        counts_by_hour[hour_dt] += 1\n",
        "        comments_by_hour[hour_dt] += comment\n",
        "\n",
        "print(counts_by_hour)\n",
        "print(comments_by_hour)\n"
      ],
      "execution_count": 0,
      "outputs": [
        {
          "output_type": "stream",
          "text": [
            "{'02': 269, '01': 282, '22': 383, '21': 518, '19': 552, '17': 587, '15': 646, '14': 513, '13': 444, '11': 312, '10': 282, '09': 222, '07': 226, '03': 271, '23': 343, '20': 510, '16': 579, '08': 257, '00': 301, '18': 614, '12': 342, '04': 243, '06': 234, '05': 209}\n",
            "{'02': 2996, '01': 2089, '22': 3372, '21': 4500, '19': 3954, '17': 5547, '15': 18525, '14': 4972, '13': 7245, '11': 2797, '10': 3013, '09': 1477, '07': 1585, '03': 2154, '23': 2297, '20': 4462, '16': 4466, '08': 2362, '00': 2277, '18': 4877, '12': 4234, '04': 2360, '06': 1587, '05': 1838}\n"
          ],
          "name": "stdout"
        }
      ]
    },
    {
      "cell_type": "markdown",
      "metadata": {
        "id": "VZ1oHoZrSc_9",
        "colab_type": "text"
      },
      "source": [
        "\n",
        "\n",
        "---\n",
        "\n",
        "Calculate average number of comments per post for each hour of the day\n",
        "\n"
      ]
    },
    {
      "cell_type": "code",
      "metadata": {
        "id": "B0c-q3W7TMhv",
        "colab_type": "code",
        "outputId": "6ea35f6b-8458-4e41-b663-f55221674b0d",
        "colab": {
          "base_uri": "https://localhost:8080/",
          "height": 54
        }
      },
      "source": [
        "avg_by_hour = []\n",
        "\n",
        "for hour in counts_by_hour:\n",
        "    average_comments = comments_by_hour[hour] / counts_by_hour[hour]\n",
        "    avg_by_hour.append([hour, average_comments])\n",
        "\n",
        "print(avg_by_hour)"
      ],
      "execution_count": 0,
      "outputs": [
        {
          "output_type": "stream",
          "text": [
            "[['02', 11.137546468401487], ['01', 7.407801418439717], ['22', 8.804177545691905], ['21', 8.687258687258687], ['19', 7.163043478260869], ['17', 9.449744463373083], ['15', 28.676470588235293], ['14', 9.692007797270955], ['13', 16.31756756756757], ['11', 8.96474358974359], ['10', 10.684397163120567], ['09', 6.653153153153153], ['07', 7.013274336283186], ['03', 7.948339483394834], ['23', 6.696793002915452], ['20', 8.749019607843136], ['16', 7.713298791018998], ['08', 9.190661478599221], ['00', 7.5647840531561465], ['18', 7.94299674267101], ['12', 12.380116959064328], ['04', 9.7119341563786], ['06', 6.782051282051282], ['05', 8.794258373205741]]\n"
          ],
          "name": "stdout"
        }
      ]
    },
    {
      "cell_type": "markdown",
      "metadata": {
        "id": "sjbYRsgsx0X4",
        "colab_type": "text"
      },
      "source": [
        "\n",
        "\n",
        "---\n",
        "\n",
        "When should you post to receive most number of comments?\n",
        "-Identify the top 5 hours where highest number of comments are received"
      ]
    },
    {
      "cell_type": "code",
      "metadata": {
        "id": "AXlPAdFpyGIA",
        "colab_type": "code",
        "outputId": "8c0e8660-222b-4364-a39e-4dc1235ac20f",
        "colab": {
          "base_uri": "https://localhost:8080/",
          "height": 54
        }
      },
      "source": [
        "swap_avg_by_hour = []\n",
        "for row in avg_by_hour:\n",
        "    swap_avg_by_hour.append([row[1],row[0]])\n",
        "    \n",
        "print(swap_avg_by_hour)"
      ],
      "execution_count": 0,
      "outputs": [
        {
          "output_type": "stream",
          "text": [
            "[[11.137546468401487, '02'], [7.407801418439717, '01'], [8.804177545691905, '22'], [8.687258687258687, '21'], [7.163043478260869, '19'], [9.449744463373083, '17'], [28.676470588235293, '15'], [9.692007797270955, '14'], [16.31756756756757, '13'], [8.96474358974359, '11'], [10.684397163120567, '10'], [6.653153153153153, '09'], [7.013274336283186, '07'], [7.948339483394834, '03'], [6.696793002915452, '23'], [8.749019607843136, '20'], [7.713298791018998, '16'], [9.190661478599221, '08'], [7.5647840531561465, '00'], [7.94299674267101, '18'], [12.380116959064328, '12'], [9.7119341563786, '04'], [6.782051282051282, '06'], [8.794258373205741, '05']]\n"
          ],
          "name": "stdout"
        }
      ]
    },
    {
      "cell_type": "code",
      "metadata": {
        "id": "lRDlzV04yko9",
        "colab_type": "code",
        "outputId": "f65c6c3d-fe31-46cb-ee63-6981b5dfb665",
        "colab": {
          "base_uri": "https://localhost:8080/",
          "height": 119
        }
      },
      "source": [
        "sorted_swap = sorted(swap_avg_by_hour, reverse = True)\n",
        "print(\"Top 5 Hours for Ask Posts Comments\")\n",
        "output = \"{}:00: {:.2f} average\"\n",
        "for row in sorted_swap[:5]:\n",
        "    print(output.format(row[1],row[0]))\n",
        "    "
      ],
      "execution_count": 0,
      "outputs": [
        {
          "output_type": "stream",
          "text": [
            "Top 5 Hours for Ask Posts Comments\n",
            "15:00: 28.68 average\n",
            "13:00: 16.32 average\n",
            "12:00: 12.38 average\n",
            "02:00: 11.14 average\n",
            "10:00: 10.68 average\n"
          ],
          "name": "stdout"
        }
      ]
    },
    {
      "cell_type": "markdown",
      "metadata": {
        "id": "d4P5tWSKyqXq",
        "colab_type": "text"
      },
      "source": [
        "**As shown, the top 5 hours to post to receive highest number of comments are after noon in Eastern US time zone**"
      ]
    }
  ]
}