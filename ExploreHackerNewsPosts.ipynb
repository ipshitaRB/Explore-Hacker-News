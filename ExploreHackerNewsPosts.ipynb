{
  "nbformat": 4,
  "nbformat_minor": 0,
  "metadata": {
    "colab": {
      "name": "ExploreHackerNewsPosts.ipynb",
      "version": "0.3.2",
      "provenance": [],
      "toc_visible": true,
      "include_colab_link": true
    },
    "kernelspec": {
      "name": "python3",
      "display_name": "Python 3"
    }
  },
  "cells": [
    {
      "cell_type": "markdown",
      "metadata": {
        "id": "view-in-github",
        "colab_type": "text"
      },
      "source": [
        "<a href=\"https://colab.research.google.com/github/ipshitaRB/Explore-Hacker-News/blob/master/ExploreHackerNewsPosts.ipynb\" target=\"_parent\"><img src=\"https://colab.research.google.com/assets/colab-badge.svg\" alt=\"Open In Colab\"/></a>"
      ]
    },
    {
      "cell_type": "markdown",
      "metadata": {
        "id": "9olUa9mJ8sgS",
        "colab_type": "text"
      },
      "source": [
        "# Explore Hacker News Posts\n",
        "\n",
        "\n",
        "The dataset only includes data about posts that have comments.Below are the description of the columns:\n",
        "\n",
        "*   id: The unique identifier from Hacker News for the post\n",
        "*   title: The title of the post\n",
        "*   url: The URL that the posts links to, if it the post has a URL\n",
        "*   num_points: The number of points the post acquired, calculated as the total number of upvotes minus the total number of downvotes\n",
        "*   num_comments: The number of comments that were made on the post\n",
        "*   author: The username of the person who submitted the post\n",
        "*   created_at: The date and time at which the post was submitted\n",
        "\n",
        "\n",
        "These are the questions to focus on \n",
        "\n",
        "*   Do Ask HN or Show HN recieve more comments on average?\n",
        "*   Do posts created at a certain time receive more posts on average?\n",
        "\n",
        "\n",
        "\n"
      ]
    },
    {
      "cell_type": "code",
      "metadata": {
        "id": "38MoguBO8dJN",
        "colab_type": "code",
        "colab": {}
      },
      "source": [
        ""
      ],
      "execution_count": 0,
      "outputs": []
    },
    {
      "cell_type": "code",
      "metadata": {
        "id": "v7ubC5bqIt8q",
        "colab_type": "code",
        "colab": {
          "base_uri": "https://localhost:8080/",
          "height": 122
        },
        "outputId": "ffffa0fd-7851-4488-a221-6e05686c72ca"
      },
      "source": [
        "from google.colab import drive\n",
        "drive.mount('/content/drive')"
      ],
      "execution_count": 1,
      "outputs": [
        {
          "output_type": "stream",
          "text": [
            "Go to this URL in a browser: https://accounts.google.com/o/oauth2/auth?client_id=947318989803-6bn6qk8qdgf4n4g3pfee6491hc0brc4i.apps.googleusercontent.com&redirect_uri=urn%3Aietf%3Awg%3Aoauth%3A2.0%3Aoob&scope=email%20https%3A%2F%2Fwww.googleapis.com%2Fauth%2Fdocs.test%20https%3A%2F%2Fwww.googleapis.com%2Fauth%2Fdrive%20https%3A%2F%2Fwww.googleapis.com%2Fauth%2Fdrive.photos.readonly%20https%3A%2F%2Fwww.googleapis.com%2Fauth%2Fpeopleapi.readonly&response_type=code\n",
            "\n",
            "Enter your authorization code:\n",
            "··········\n",
            "Mounted at /content/drive\n"
          ],
          "name": "stdout"
        }
      ]
    },
    {
      "cell_type": "code",
      "metadata": {
        "id": "pntJH17qKNn6",
        "colab_type": "code",
        "colab": {
          "base_uri": "https://localhost:8080/",
          "height": 122
        },
        "outputId": "c135e8db-79ae-4e0d-faf4-daa285719d9d"
      },
      "source": [
        "from csv import reader\n",
        "\n",
        "opened_file = open(\"/content/drive/My Drive/HN_posts_year_to_Sep_26_2016.csv\")\n",
        "content = reader(opened_file)\n",
        "posts = list(content)\n",
        "\n",
        "# Print the first 5 rows\n",
        "times = 0\n",
        "for post in posts:\n",
        "    if times < 5:\n",
        "        print(post)\n",
        "        times += 1"
      ],
      "execution_count": 4,
      "outputs": [
        {
          "output_type": "stream",
          "text": [
            "['id', 'title', 'url', 'num_points', 'num_comments', 'author', 'created_at']\n",
            "['12579008', 'You have two days to comment if you want stem cells to be classified as your own', 'http://www.regulations.gov/document?D=FDA-2015-D-3719-0018', '1', '0', 'altstar', '9/26/2016 3:26']\n",
            "['12579005', 'SQLAR  the SQLite Archiver', 'https://www.sqlite.org/sqlar/doc/trunk/README.md', '1', '0', 'blacksqr', '9/26/2016 3:24']\n",
            "['12578997', 'What if we just printed a flatscreen television on the side of our boxes?', 'https://medium.com/vanmoof/our-secrets-out-f21c1f03fdc8#.ietxmez43', '1', '0', 'pavel_lishin', '9/26/2016 3:19']\n",
            "['12578989', 'algorithmic music', 'http://cacm.acm.org/magazines/2011/7/109891-algorithmic-composition/fulltext', '1', '0', 'poindontcare', '9/26/2016 3:16']\n"
          ],
          "name": "stdout"
        }
      ]
    }
  ]
}